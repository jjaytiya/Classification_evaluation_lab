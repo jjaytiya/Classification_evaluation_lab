{
 "cells": [
  {
   "cell_type": "markdown",
   "metadata": {},
   "source": [
    "## Predicting Chronic Kidney Disease in Patients\n",
    "> Author: Matt Brems\n",
    "\n",
    "We can sketch out the data science process as follows:\n",
    "1. Define the problem.\n",
    "2. Obtain the data.\n",
    "3. Explore the data.\n",
    "4. Model the data.\n",
    "5. Evaluate the model.\n",
    "6. Answer the problem.\n",
    "\n",
    "In this lab, we're going to focus on steps exploring data, building models and evaluating the models we build.\n",
    "\n",
    "There are three links you may find important:\n",
    "- [A set of chronic kidney disease (CKD) data and other biological factors](./chronic_kidney_disease_full.csv).\n",
    "- [The CKD data dictionary](./chronic_kidney_disease_header.txt).\n",
    "- [An article comparing the use of k-nearest neighbors and support vector machines on predicting CKD](./chronic_kidney_disease.pdf)."
   ]
  },
  {
   "cell_type": "markdown",
   "metadata": {},
   "source": [
    "## Step 1: Define the problem.\n",
    "\n",
    "Suppose you're working for Mayo Clinic, widely recognized to be the top hospital in the United States. In your work, you've overheard nurses and doctors discuss test results, then arrive at a conclusion as to whether or not someone has developed a particular disease or condition. For example, you might overhear something like:\n",
    "\n",
    "> **Nurse**: Male 57 year-old patient presents with severe chest pain. FDP _(short for fibrin degradation product)_ was elevated at 13. We did an echo _(echocardiogram)_ and it was inconclusive.\n",
    "\n",
    "> **Doctor**: What was his interarm BP? _(blood pressure)_\n",
    "\n",
    "> **Nurse**: Systolic was 140 on the right; 110 on the left.\n",
    "\n",
    "> **Doctor**: It's an aortic dissection! Get to the OR _(operating room)_ now!\n",
    "\n",
    "> _(intense music playing)_\n",
    "\n",
    "In this fictitious scenario, you might imagine the doctor going through a series of steps like a [flowchart](https://en.wikipedia.org/wiki/Flowchart), or a series of if-this-then-that steps to diagnose a patient. The first steps made the doctor ask what the interarm blood pressure was. Because interarm blood pressure took on the values it took on, the doctor diagnosed the patient with an aortic dissection.\n",
    "\n",
    "Your goal, as a research biostatistical data scientist at the nation's top hospital, is to develop a medical test that can improve upon our current diagnosis system for [chronic kidney disease (CKD)](https://www.mayoclinic.org/diseases-conditions/chronic-kidney-disease/symptoms-causes/syc-20354521).\n",
    "\n",
    "**Real-world problem**: Develop a medical diagnosis test that is better than our current diagnosis system for CKD.\n",
    "\n",
    "**Data science problem**: Develop a medical diagnosis test that reduces both the number of false positives and the number of false negatives."
   ]
  },
  {
   "cell_type": "code",
   "execution_count": 3,
   "metadata": {},
   "outputs": [],
   "source": [
    "# Factors that can increase your risk of chronic kidney disease include:\n",
    "    # Diabetes\n",
    "    # High blood pressure\n",
    "    # Heart (cardiovascular) disease\n",
    "    # Smoking\n",
    "    # Obesity\n",
    "    # Being Black, Native American or Asian American --> How?\n",
    "    # Family history of kidney disease\n",
    "    # Abnormal kidney structure\n",
    "    # Older age\n",
    "    # Frequent use of medications that can damage the kidneys"
   ]
  },
  {
   "cell_type": "markdown",
   "metadata": {},
   "source": [
    "---\n",
    "\n",
    "## Step 2: Obtain the data.\n",
    "\n",
    "### 1. Read in the data."
   ]
  },
  {
   "cell_type": "code",
   "execution_count": 5,
   "metadata": {},
   "outputs": [],
   "source": [
    "# library imports\n",
    "import pandas as pd\n",
    "import numpy as np\n",
    "import seaborn as sns\n",
    "import matplotlib.pyplot as plt\n",
    "\n",
    "from sklearn.linear_model import LinearRegression, LogisticRegression"
   ]
  },
  {
   "cell_type": "code",
   "execution_count": 6,
   "metadata": {},
   "outputs": [],
   "source": [
    "data = pd.read_csv('chronic_kidney_disease_full.csv')"
   ]
  },
  {
   "cell_type": "code",
   "execution_count": 7,
   "metadata": {},
   "outputs": [
    {
     "data": {
      "text/plain": [
       "Index(['age', 'bp', 'sg', 'al', 'su', 'rbc', 'pc', 'pcc', 'ba', 'bgr', 'bu',\n",
       "       'sc', 'sod', 'pot', 'hemo', 'pcv', 'wbcc', 'rbcc', 'htn', 'dm', 'cad',\n",
       "       'appet', 'pe', 'ane', 'class'],\n",
       "      dtype='object')"
      ]
     },
     "execution_count": 7,
     "metadata": {},
     "output_type": "execute_result"
    }
   ],
   "source": [
    "data.columns"
   ]
  },
  {
   "cell_type": "code",
   "execution_count": 8,
   "metadata": {},
   "outputs": [
    {
     "data": {
      "text/plain": [
       "(400, 25)"
      ]
     },
     "execution_count": 8,
     "metadata": {},
     "output_type": "execute_result"
    }
   ],
   "source": [
    "data.shape"
   ]
  },
  {
   "cell_type": "markdown",
   "metadata": {},
   "source": [
    "### 2. Check out the data dictionary. What are a few features or relationships you might be interested in checking out?"
   ]
  },
  {
   "cell_type": "code",
   "execution_count": 10,
   "metadata": {},
   "outputs": [],
   "source": [
    "# Answer here:\n",
    "\n",
    "# Age and Health: Check how age affects conditions like hypertension (high blood pressure), diabetes, and heart disease.\n",
    "\n",
    "# Blood Pressure Factors: Look at how blood pressure relates to sodium and potassium levels.\n",
    "\n",
    "# Blood Glucose and Diabetes: Explore how blood glucose levels connect to diabetes.\n",
    "\n",
    "# Anemia and Hemoglobin: Analyze the link between hemoglobin levels and anemia.\n",
    "\n",
    "# Kidney Health: Assess how albumin and sugar levels relate to kidney function indicators like blood urea and creatinine."
   ]
  },
  {
   "cell_type": "markdown",
   "metadata": {},
   "source": [
    "---\n",
    "\n",
    "## Step 3: Explore the data.\n",
    "\n",
    "### 3. How much of the data is missing from each column?"
   ]
  },
  {
   "cell_type": "code",
   "execution_count": 12,
   "metadata": {},
   "outputs": [
    {
     "name": "stdout",
     "output_type": "stream",
     "text": [
      "      Data Type  Null Count\n",
      "age     float64           9\n",
      "bp      float64          12\n",
      "sg      float64          47\n",
      "al      float64          46\n",
      "su      float64          49\n",
      "rbc      object         152\n",
      "pc       object          65\n",
      "pcc      object           4\n",
      "ba       object           4\n",
      "bgr     float64          44\n",
      "bu      float64          19\n",
      "sc      float64          17\n",
      "sod     float64          87\n",
      "pot     float64          88\n",
      "hemo    float64          52\n",
      "pcv     float64          71\n",
      "wbcc    float64         106\n",
      "rbcc    float64         131\n",
      "htn      object           2\n",
      "dm       object           2\n",
      "cad      object           2\n",
      "appet    object           1\n",
      "pe       object           1\n",
      "ane      object           1\n",
      "class    object           0\n"
     ]
    }
   ],
   "source": [
    "# Answer here:\n",
    "print(data.dtypes.to_frame(name='Data Type').join(data.isna().sum().rename('Null Count')))"
   ]
  },
  {
   "cell_type": "code",
   "execution_count": 13,
   "metadata": {},
   "outputs": [
    {
     "name": "stdout",
     "output_type": "stream",
     "text": [
      "      Data Type  %Null\n",
      "rbc      object  38.00\n",
      "rbcc    float64  32.75\n",
      "wbcc    float64  26.50\n",
      "pot     float64  22.00\n",
      "sod     float64  21.75\n",
      "pcv     float64  17.75\n",
      "pc       object  16.25\n",
      "hemo    float64  13.00\n",
      "su      float64  12.25\n",
      "sg      float64  11.75\n",
      "al      float64  11.50\n",
      "bgr     float64  11.00\n",
      "bu      float64   4.75\n",
      "sc      float64   4.25\n",
      "bp      float64   3.00\n",
      "age     float64   2.25\n",
      "ba       object   1.00\n",
      "pcc      object   1.00\n",
      "htn      object   0.50\n",
      "dm       object   0.50\n",
      "cad      object   0.50\n",
      "appet    object   0.25\n",
      "pe       object   0.25\n",
      "ane      object   0.25\n",
      "class    object   0.00\n"
     ]
    }
   ],
   "source": [
    "# Make it easier by making the missing output in %\n",
    "print (data.dtypes.to_frame(name='Data Type').join(data.isna().mean().mul(100)\n",
    "      .rename('%Null')).sort_values(by = '%Null', ascending = False))"
   ]
  },
  {
   "cell_type": "markdown",
   "metadata": {},
   "source": [
    "### 4. Suppose that I dropped every row that contained at least one missing value. (In the context of analysis with missing data, we call this a \"complete case analysis,\" because we keep only the complete cases!) How many rows would remain in our dataframe? What are at least two downsides to doing this?"
   ]
  },
  {
   "cell_type": "code",
   "execution_count": 15,
   "metadata": {},
   "outputs": [
    {
     "name": "stdout",
     "output_type": "stream",
     "text": [
      "Number of rows remaining after dropping missing values: 158\n"
     ]
    }
   ],
   "source": [
    "# Answer here:\n",
    "# Dropping rows with any missing values\n",
    "complete_cases = data.dropna()\n",
    "remaining_rows = complete_cases.shape[0]\n",
    "print(f\"Number of rows remaining after dropping missing values: {remaining_rows}\")\n",
    "\n",
    "# Downsides of Complete Case Analysis \n",
    "#    1. Loss a lot of data. After removing missing values, the dataset shows it only have 158 rows left from original data (400). \n",
    "#       It means that we may losing valueable data (In this case, roughly 60% of data).\n",
    "#    2. Will end up with bias if the missing data isn't random."
   ]
  },
  {
   "cell_type": "markdown",
   "metadata": {},
   "source": [
    "### 5. Thinking critically about how our data were gathered, it's likely that these records were gathered by doctors and nurses. Brainstorm three potential areas (in addition to the missing data we've already discussed) where this data might be inaccurate or imprecise."
   ]
  },
  {
   "cell_type": "code",
   "execution_count": 17,
   "metadata": {},
   "outputs": [],
   "source": [
    "# Answer here:\n",
    "\n",
    "# 1. Not updated the patient health and conditon. \n",
    "# 2. Patients not consistently revisit for the follow-up appointments. This may not capture over time.\n",
    "# 3. Some patients may have limited access to healthcare services, affecting their diagnosis and the quality of care they receive."
   ]
  },
  {
   "cell_type": "markdown",
   "metadata": {},
   "source": [
    "---\n",
    "\n",
    "## Step 4: Model the data.\n",
    "\n",
    "### 6. Suppose that I want to construct a model where no person who has chronic kidney disease (CKD) will ever be told that they do not have CKD. What (very simple, no machine learning needed) model can I create that will never tell a person with CKD that they do not have CKD?\n",
    "\n",
    "> Hint: Don't think about `statsmodels` or `scikit-learn` here."
   ]
  },
  {
   "cell_type": "code",
   "execution_count": 19,
   "metadata": {},
   "outputs": [],
   "source": [
    "# Answer here:\n",
    "# Create a model that classifies everyone as having chronic kidney disease (CKD).\n",
    "# Then the only type of error to this model would be false positive (FP), \n",
    "# meaning it would falsely label patient is healthy BUT having CKD (false positives)."
   ]
  },
  {
   "cell_type": "markdown",
   "metadata": {},
   "source": [
    "### 7. In problem 6, what common classification metric did we optimize for? Did we minimize false positives or negatives?"
   ]
  },
  {
   "cell_type": "code",
   "execution_count": 21,
   "metadata": {},
   "outputs": [],
   "source": [
    "# Answer here\n",
    "# Optimize sensitivity (recall).\n",
    "# Focused on minimize false negatives (FN).\n",
    "# By classifying everyone having CKD BUT actually they have not."
   ]
  },
  {
   "cell_type": "markdown",
   "metadata": {},
   "source": [
    "### 8. Thinking ethically, what is at least one disadvantage to the model you described in problem 6?"
   ]
  },
  {
   "cell_type": "code",
   "execution_count": 23,
   "metadata": {},
   "outputs": [],
   "source": [
    "# Answer here:\n",
    "# If the patients were told that they having CKD BUT they are not, will make the patient fear and panic. \n",
    "# Plus, the patients may go through the treatement and that may impact to thier health directly,\n",
    "# including paying unnecessary treatment fees."
   ]
  },
  {
   "cell_type": "markdown",
   "metadata": {},
   "source": [
    "### 9. Suppose that I want to construct a model where a person who does not have CKD will ever be told that they do have CKD. What (very simple, no machine learning needed) model can I create that will accomplish this?"
   ]
  },
  {
   "cell_type": "code",
   "execution_count": 25,
   "metadata": {},
   "outputs": [],
   "source": [
    "# Answer here:\n",
    "# Create a model that classifies everyone as not having chronic kidney disease (NOTCKD).\n",
    "# Then the only type of error to this model would be false negative (FN), \n",
    "# meaning it fails to identify that the patients who actually have CKD, incorrectly labeling as NOT CKD."
   ]
  },
  {
   "cell_type": "markdown",
   "metadata": {},
   "source": [
    "### 10. In problem 9, what common classification metric did we optimize for? Did we minimize false positives or negatives?"
   ]
  },
  {
   "cell_type": "code",
   "execution_count": 27,
   "metadata": {},
   "outputs": [],
   "source": [
    "# Answer here:\n",
    "# Should optimize for specificity (or true negative)\n",
    "# Focused on minimize False Negatives(FN)\n",
    "# By classifying everyone not having CKD BUT actually they have."
   ]
  },
  {
   "cell_type": "markdown",
   "metadata": {},
   "source": [
    "### 11. Thinking ethically, what is at least one disadvantage to the model you described in problem 9?"
   ]
  },
  {
   "cell_type": "code",
   "execution_count": 29,
   "metadata": {},
   "outputs": [],
   "source": [
    "# Answer here:\n",
    "# The patients will miss chance to get a treatment and that will worsen their health.\n",
    "# Plus, once patients getting worse it may hard to cure or provice the treatment to them which lead to choose dead-alive positions."
   ]
  },
  {
   "cell_type": "markdown",
   "metadata": {},
   "source": [
    "### 12. Construct a logistic regression model in `sklearn` predicting class from the other variables. You may scale, select/drop, and engineer features as you wish - build a good model! Make sure, however, that you include at least one categorical/dummy feature and at least one quantitative feature.\n",
    "\n",
    "> Hint: Remember to do a train/test split!"
   ]
  },
  {
   "cell_type": "code",
   "execution_count": 31,
   "metadata": {},
   "outputs": [],
   "source": [
    "# Clean First"
   ]
  },
  {
   "cell_type": "code",
   "execution_count": 32,
   "metadata": {},
   "outputs": [],
   "source": [
    "from sklearn.model_selection import train_test_split, cross_val_score\n",
    "from sklearn.preprocessing import StandardScaler"
   ]
  },
  {
   "cell_type": "code",
   "execution_count": 33,
   "metadata": {},
   "outputs": [
    {
     "name": "stdout",
     "output_type": "stream",
     "text": [
      "      Data Type  %Null\n",
      "rbc      object  38.00\n",
      "rbcc    float64  32.75\n",
      "wbcc    float64  26.50\n",
      "pot     float64  22.00\n",
      "sod     float64  21.75\n",
      "pcv     float64  17.75\n",
      "pc       object  16.25\n",
      "hemo    float64  13.00\n",
      "su      float64  12.25\n",
      "sg      float64  11.75\n",
      "al      float64  11.50\n",
      "bgr     float64  11.00\n",
      "bu      float64   4.75\n",
      "sc      float64   4.25\n",
      "bp      float64   3.00\n",
      "age     float64   2.25\n",
      "ba       object   1.00\n",
      "pcc      object   1.00\n",
      "htn      object   0.50\n",
      "dm       object   0.50\n",
      "cad      object   0.50\n",
      "appet    object   0.25\n",
      "pe       object   0.25\n",
      "ane      object   0.25\n",
      "class    object   0.00\n"
     ]
    }
   ],
   "source": [
    "# Checking NULL again before handling with missing value\n",
    "print (data.dtypes.to_frame(name='Data Type').join(data.isna().mean().mul(100)\n",
    "      .rename('%Null')).sort_values(by = '%Null', ascending = False))"
   ]
  },
  {
   "cell_type": "code",
   "execution_count": 34,
   "metadata": {},
   "outputs": [],
   "source": [
    "# Deal with 'object' first, as this dtypes cannot use for model prediciton\n",
    "#rbc      object  38.00   red blood cells\n",
    "#pc       object  16.25   pus cell\n",
    "#ba       object   1.00   bacteria\n",
    "#pcc      object   1.00   pus cell clumps\n",
    "#htn      object   0.50   hypertension\n",
    "#dm       object   0.50   diabetes mellitus\n",
    "#cad      object   0.50   coronary artery disease\n",
    "#appet    object   0.25   appetite\n",
    "#pe       object   0.25   pedal edema\n",
    "#ane      object   0.25   anemia"
   ]
  },
  {
   "cell_type": "code",
   "execution_count": 35,
   "metadata": {},
   "outputs": [
    {
     "name": "stdout",
     "output_type": "stream",
     "text": [
      "Unique values in 'rbc': [nan 'normal' 'abnormal']\n",
      "\n",
      "Unique values in 'pc': ['normal' 'abnormal' nan]\n",
      "\n",
      "Unique values in 'pcc': ['notpresent' 'present' nan]\n",
      "\n",
      "Unique values in 'ba': ['notpresent' 'present' nan]\n",
      "\n",
      "Unique values in 'htn': ['yes' 'no' nan]\n",
      "\n",
      "Unique values in 'dm': ['yes' 'no' nan]\n",
      "\n",
      "Unique values in 'cad': ['no' 'yes' nan]\n",
      "\n",
      "Unique values in 'appet': ['good' 'poor' nan]\n",
      "\n",
      "Unique values in 'pe': ['no' 'yes' nan]\n",
      "\n",
      "Unique values in 'ane': ['no' 'yes' nan]\n",
      "\n",
      "Unique values in 'class': ['ckd' 'notckd']\n",
      "\n"
     ]
    }
   ],
   "source": [
    "# Get unique value in 'object' data type. \n",
    "# This help to understand about the data more.\n",
    "\n",
    "# Select columns with object data type\n",
    "object_columns = data.select_dtypes(include='object')\n",
    "\n",
    "# Display unique values for each object column\n",
    "for col in object_columns.columns:\n",
    "    unique_values = data[col].unique()\n",
    "    print(f\"Unique values in '{col}': {unique_values}\\n\")"
   ]
  },
  {
   "cell_type": "code",
   "execution_count": 36,
   "metadata": {},
   "outputs": [],
   "source": [
    "# Binery 'rbc'& 'pc' \n",
    "# 'normal' = 1 // 'abnormal' = 2\n",
    "data['rbc'] = data['rbc'].map({'normal': 1, 'abnormal': 0})\n",
    "data['pc'] = data['pc'].map({'normal': 1, 'abnormal': 0})"
   ]
  },
  {
   "cell_type": "code",
   "execution_count": 37,
   "metadata": {},
   "outputs": [],
   "source": [
    "# Binery 'htn','dm','cad','pe','ane'\n",
    "# 'no' = 0 // 'yes' = 1\n",
    "data['htn'] = data['htn'].map({'yes': 1, 'no': 0})\n",
    "data['dm'] = data['dm'].map({'yes': 1, 'no': 0})\n",
    "data['cad'] = data['cad'].map({'yes': 1, 'no': 0})\n",
    "data['pe'] = data['pe'].map({'yes': 1, 'no': 0})\n",
    "data['ane'] = data['ane'].map({'yes': 1, 'no': 0})"
   ]
  },
  {
   "cell_type": "code",
   "execution_count": 38,
   "metadata": {},
   "outputs": [],
   "source": [
    "# Binery 'pcc'& 'ba' \n",
    "# 'notpresent' = 0 // 'present' = 1\n",
    "data['pcc'] = data['pcc'].map({'present': 1, 'notpresent': 0})\n",
    "data['ba'] = data['ba'].map({'present': 1, 'notpresent': 0})"
   ]
  },
  {
   "cell_type": "code",
   "execution_count": 39,
   "metadata": {},
   "outputs": [],
   "source": [
    "# Binery 'class'\n",
    "# 'ckd' = 1 // 'notckd' = 0\n",
    "data['class'] = data['class'].map({'ckd': 1, 'notckd': 0})"
   ]
  },
  {
   "cell_type": "code",
   "execution_count": 40,
   "metadata": {},
   "outputs": [],
   "source": [
    "# Create dummies for 'appet' column (dropping the first category to avoid multicollinearity)\n",
    "appet_dummies = pd.get_dummies(data['appet'], prefix='appet', drop_first=True)\n",
    "\n",
    "# Merge the dummies back to the original dataframe\n",
    "data = pd.concat([data, appet_dummies], axis=1)  # appet with good value is our baseline"
   ]
  },
  {
   "cell_type": "code",
   "execution_count": 41,
   "metadata": {},
   "outputs": [],
   "source": [
    "# Remind AGAIN \n",
    "# See the factors before drop.\n",
    "# Factors that can increase your risk of chronic kidney disease include:\n",
    "    # Diabetes\n",
    "    # High blood pressure\n",
    "    # Heart (cardiovascular) disease\n",
    "    # Smoking\n",
    "    # Obesity\n",
    "    # Being Black, Native American or Asian American --> How?\n",
    "    # Family history of kidney disease\n",
    "    # Abnormal kidney structure\n",
    "    # Older age\n",
    "    # Frequent use of medications that can damage the kidneys"
   ]
  },
  {
   "cell_type": "code",
   "execution_count": 42,
   "metadata": {},
   "outputs": [],
   "source": [
    "# List of columns to drop based on factors that can increase the risk of having CKD\n",
    "# These columns contain % high of missing value rbc', 'rbcc', 'wbcc', 'pot', 'sod'\n",
    "# No need to have it > Drop\n",
    "data = data.drop(columns=['rbc', 'rbcc', 'wbcc', 'pot', 'sod','appet']) # for 'appet, I will use the dummy appet I made from above'"
   ]
  },
  {
   "cell_type": "code",
   "execution_count": 43,
   "metadata": {},
   "outputs": [
    {
     "data": {
      "text/plain": [
       "Index(['age', 'bp', 'sg', 'al', 'su', 'pc', 'pcc', 'ba', 'bgr', 'bu', 'sc',\n",
       "       'hemo', 'pcv', 'htn', 'dm', 'cad', 'pe', 'ane', 'class', 'appet_poor'],\n",
       "      dtype='object')"
      ]
     },
     "execution_count": 43,
     "metadata": {},
     "output_type": "execute_result"
    }
   ],
   "source": [
    "data.columns"
   ]
  },
  {
   "cell_type": "code",
   "execution_count": 44,
   "metadata": {},
   "outputs": [],
   "source": [
    "# Fill N/A with mean\n",
    "data = data.fillna(data.mean())"
   ]
  },
  {
   "cell_type": "code",
   "execution_count": 45,
   "metadata": {},
   "outputs": [
    {
     "data": {
      "text/plain": [
       "age           0\n",
       "bp            0\n",
       "sg            0\n",
       "al            0\n",
       "su            0\n",
       "pc            0\n",
       "pcc           0\n",
       "ba            0\n",
       "bgr           0\n",
       "bu            0\n",
       "sc            0\n",
       "hemo          0\n",
       "pcv           0\n",
       "htn           0\n",
       "dm            0\n",
       "cad           0\n",
       "pe            0\n",
       "ane           0\n",
       "class         0\n",
       "appet_poor    0\n",
       "dtype: int64"
      ]
     },
     "execution_count": 45,
     "metadata": {},
     "output_type": "execute_result"
    }
   ],
   "source": [
    "# Checking missing value again\n",
    "data.isnull().sum()"
   ]
  },
  {
   "cell_type": "code",
   "execution_count": 46,
   "metadata": {},
   "outputs": [
    {
     "data": {
      "text/plain": [
       "(400, 20)"
      ]
     },
     "execution_count": 46,
     "metadata": {},
     "output_type": "execute_result"
    }
   ],
   "source": [
    "data.shape"
   ]
  },
  {
   "cell_type": "code",
   "execution_count": 47,
   "metadata": {},
   "outputs": [],
   "source": [
    "# Run Logistic Regression Model"
   ]
  },
  {
   "cell_type": "code",
   "execution_count": 48,
   "metadata": {},
   "outputs": [
    {
     "name": "stdout",
     "output_type": "stream",
     "text": [
      "Training score: 1.0\n",
      "Testing score: 1.0\n"
     ]
    }
   ],
   "source": [
    "#Get list column of the rest excluding y (Target variables)\n",
    "features = [c for c in data._get_numeric_data().columns if not c in ['class']] \n",
    "\n",
    "# Set up X, y\n",
    "X = data[features]\n",
    "y = data['class']\n",
    "\n",
    "\n",
    "# Train/test splitting the data (Before scale to avoid data leak)\n",
    "X_train, X_test, y_train, y_test = train_test_split(X, y, test_size=0.2, random_state=42)\n",
    "\n",
    "# Instantiating and fitting standard scaler \n",
    "ss = StandardScaler()\n",
    "ss.fit(X_train);\n",
    "\n",
    "#Transform\n",
    "X_train_sc = ss.transform(X_train)\n",
    "X_test_sc = ss.transform(X_test)\n",
    "\n",
    "# Instantiating and fitting logistic regression\n",
    "lr = LogisticRegression()\n",
    "lr.fit(X_train_sc, y_train);\n",
    "\n",
    "y_preds = lr.predict(X_test_sc)\n",
    "\n",
    "print (f'Training score: {lr.score(X_train_sc, y_train)}')\n",
    "print (f'Testing score: {lr.score(X_test_sc, y_test)}')"
   ]
  },
  {
   "cell_type": "code",
   "execution_count": 49,
   "metadata": {},
   "outputs": [
    {
     "name": "stdout",
     "output_type": "stream",
     "text": [
      "X_train_sc shape is: (320, 19)\n",
      "y_train shape is: (320,)\n",
      "X_test_sc shape is: (80, 19)\n",
      "y_test shape is: (80,)\n"
     ]
    }
   ],
   "source": [
    "print(f'X_train_sc shape is: {X_train_sc.shape}')\n",
    "print(f'y_train shape is: {y_train.shape}')\n",
    "print(f'X_test_sc shape is: {X_test_sc.shape}')\n",
    "print(f'y_test shape is: {y_test.shape}')"
   ]
  },
  {
   "cell_type": "markdown",
   "metadata": {},
   "source": [
    "---\n",
    "\n",
    "## Step 5: Evaluate the model.\n",
    "\n",
    "### 13. Based on your logistic regression model constructed in problem 12, interpret the coefficient of one of your quantitative features."
   ]
  },
  {
   "cell_type": "code",
   "execution_count": 51,
   "metadata": {},
   "outputs": [
    {
     "name": "stdout",
     "output_type": "stream",
     "text": [
      "age: -0.08764665956603461\n",
      "bp: 0.48975044522070493\n",
      "sg: -2.265055555022791\n",
      "al: 1.1661056984540423\n",
      "su: 0.5342363991096468\n",
      "pc: -0.5036612702030815\n",
      "pcc: 0.08110075681126248\n",
      "ba: 0.07405694151208203\n",
      "bgr: 0.8730047220245434\n",
      "bu: 0.11599386894997601\n",
      "sc: 0.8198490744632515\n",
      "hemo: -1.5465379768643708\n",
      "pcv: -1.156117198179752\n",
      "htn: 0.7129123898784039\n",
      "dm: 0.7439323549468878\n",
      "cad: 0.03729605593536854\n",
      "pe: 0.8459774675340616\n",
      "ane: 0.06902677171991939\n",
      "appet_poor: 1.0918070264014463\n"
     ]
    },
    {
     "data": {
      "image/png": "[encoded data removed]",
      "text/plain": [
       "<Figure size 1000x600 with 1 Axes>"
      ]
     },
     "metadata": {},
     "output_type": "display_data"
    }
   ],
   "source": [
    "# Getting the coefficients from Q12\n",
    "coefficients = lr.coef_[0]  # Coefficients for the model\n",
    "feature_coef = list(zip(features, coefficients))\n",
    "\n",
    "# Displaying the feature names and their coefficients\n",
    "for feature, coef in feature_coef:\n",
    "    print(f'{feature}: {coef}')\n",
    "\n",
    "# Plot for easier visualization\n",
    "plt.figure(figsize=(10, 6))\n",
    "plt.bar(features, coefficients)\n",
    "plt.xlabel('Features')\n",
    "plt.ylabel('Coefficient Value')\n",
    "plt.title('Logistic Regression Coefficients')\n",
    "plt.xticks(rotation=90)\n",
    "plt.show()"
   ]
  },
  {
   "cell_type": "code",
   "execution_count": 123,
   "metadata": {},
   "outputs": [
    {
     "name": "stdout",
     "output_type": "stream",
     "text": [
      "Odds Ratio: 21.31\n"
     ]
    }
   ],
   "source": [
    "# Ans:\n",
    "# Interpret, hemo (-1.546):\n",
    "\n",
    "# For patien who have lower hemoglobin levels are associated with a higher likelihood of chronic kidney disease.\n",
    "# Each unit increase in hemoglobin, the log-odds of having CKD decreases by 1.556\n",
    "\n",
    "# Odds Ratio 21.31% means that for every 1-unit increase in hemoglobin, the odds of having CKD are decrease to 21%.\n",
    "\n",
    "\n",
    "# The coefficient from 'hemo'\n",
    "coefficient = -1.546 # For hemo\n",
    "# Calculate the odds ratio by exponentiating the coefficient\n",
    "odds_ratio = np.exp(coefficient)*100\n",
    "\n",
    "#Output\n",
    "print(f'Odds Ratio: {round(odds_ratio, 2)}')"
   ]
  },
  {
   "cell_type": "markdown",
   "metadata": {},
   "source": [
    "### 14. Based on your logistic regression model constructed in problem 12, interpret the coefficient of one of your categorical/dummy features."
   ]
  },
  {
   "cell_type": "code",
   "execution_count": 125,
   "metadata": {},
   "outputs": [
    {
     "name": "stdout",
     "output_type": "stream",
     "text": [
      "Odds Ratio: 2.98\n",
      "Percentage Increase in Odds: 197.72%\n"
     ]
    }
   ],
   "source": [
    "# Ans:\n",
    "# Interpret,appet_poor (1.091) baseline is apet_good (drop earlier when create dummy): \n",
    "\n",
    "# For patients who have poor appetite has a positive association.\n",
    "# Means that for those with poor appetite are more likely to have chronic kidney disease.\n",
    "\n",
    "# The coefficient for 'appet_poor'\n",
    "coefficient = 1.091\n",
    "\n",
    "# Calculate the odds ratio by exponentiating the coefficient\n",
    "odds_ratio = np.exp(coefficient)\n",
    "\n",
    "# Calculate the percentage increase in odds\n",
    "percentage_increase = (odds_ratio - 1) * 100\n",
    "\n",
    "# Print the results\n",
    "print(f\"Odds Ratio: {round(odds_ratio, 2)}\")\n",
    "print(f\"Percentage Increase in Odds: {round(percentage_increase, 2)}%\")"
   ]
  },
  {
   "cell_type": "code",
   "execution_count": 55,
   "metadata": {},
   "outputs": [],
   "source": [
    "# For patients who have poor appetite are approximately 2.98 times more likely to have CKD compared to those who have good appetite\n",
    "# The odds of having CKD increase by 198% if patients got poor appetite. \n",
    "\n",
    "# However, this is just mathametics matters. \n",
    "# To ensure wether patients will have CKD or not have to be tasted and consider other factors as well"
   ]
  },
  {
   "cell_type": "markdown",
   "metadata": {},
   "source": [
    "### 15. Despite being a relatively simple model, logistic regression is very widely used in the real world. Why do you think that's the case? Name at least two advantages to using logistic regression as a modeling technique."
   ]
  },
  {
   "cell_type": "markdown",
   "metadata": {},
   "source": [
    "Answer:\n",
    "1. Simple =  It is easy and efficient to predict if choosing the right feature\n",
    "2. Predict probability = Logistic Regression help predict the probability and widely use"
   ]
  },
  {
   "cell_type": "markdown",
   "metadata": {},
   "source": [
    "### 16. Does it make sense to generate a confusion matrix on our training data or our test data? Why?\n",
    "\n",
    "> Hint: Once you've generated your predicted $y$ values and you have your observed $y$ values, then it will be easy to [generate a confusion matrix using sklearn](http://scikit-learn.org/stable/modules/generated/sklearn.metrics.confusion_matrix.html)."
   ]
  },
  {
   "cell_type": "code",
   "execution_count": 59,
   "metadata": {},
   "outputs": [],
   "source": [
    "# YES it does!\n",
    "# Generating confusion maxtrix can help to explain how the prediction doing."
   ]
  },
  {
   "cell_type": "code",
   "execution_count": 127,
   "metadata": {},
   "outputs": [
    {
     "data": {
      "text/plain": [
       "array([[28,  0],\n",
       "       [ 0, 52]])"
      ]
     },
     "execution_count": 127,
     "metadata": {},
     "output_type": "execute_result"
    }
   ],
   "source": [
    "from sklearn.metrics import confusion_matrix\n",
    "confusion_matrix = confusion_matrix(y_test,y_preds)\n",
    "confusion_matrix"
   ]
  },
  {
   "cell_type": "markdown",
   "metadata": {},
   "source": [
    "### 17. In this hospital case, we want to predict CKD. Do we want to optimize for sensitivity, specificity, or something else? Why? (If you don't think there's one clear answer, that's okay! There rarely is. Be sure to defend your conclusion!)"
   ]
  },
  {
   "cell_type": "markdown",
   "metadata": {},
   "source": [
    "__Answer:__\n",
    "Based on my confustion matrix, I don't worry much about optimizing sensitivity, specificity or any others. \n",
    "Because my confustion matrix shows from 100 patients in test data, no patient are incorrectly predicted.\n",
    "\n",
    "However, in the real-world hospital case the sensitivity should be the priority. Missing on a patient got CKD can lead to hugh consequences."
   ]
  },
  {
   "cell_type": "markdown",
   "metadata": {},
   "source": [
    "### 18 (BONUS). Write a function that will create an ROC curve for you, then plot the ROC curve.\n",
    "\n",
    "Here's a strategy you might consider:\n",
    "1. In order to even begin, you'll need some fit model. Use your logistic regression model from problem 12.\n",
    "2. We want to look at all values of your \"threshold\" - that is, anything where .predict() gives you above your threshold falls in the \"positive class,\" and anything that is below your threshold falls in the \"negative class.\" Start the threshold at 0.\n",
    "3. At this value of your threshold, calculate the sensitivity and specificity. Store these values.\n",
    "4. Increment your threshold by some \"step.\" Maybe set your step to be 0.01, or even smaller.\n",
    "5. At this value of your threshold, calculate the sensitivity and specificity. Store these values.\n",
    "6. Repeat steps 3 and 4 until you get to the threshold of 1.\n",
    "7. Plot the values of sensitivity and 1 - specificity."
   ]
  },
  {
   "cell_type": "code",
   "execution_count": 64,
   "metadata": {},
   "outputs": [],
   "source": [
    "# Please let me skip this one"
   ]
  },
  {
   "cell_type": "markdown",
   "metadata": {},
   "source": [
    "### 19. Suppose you're speaking with the biostatistics lead at Mayo Clinic, who asks you \"Why are unbalanced classes generally a problem? Are they a problem in this particular CKD analysis?\" How would you respond?"
   ]
  },
  {
   "cell_type": "code",
   "execution_count": 66,
   "metadata": {},
   "outputs": [
    {
     "data": {
      "text/plain": [
       "class\n",
       "1    250\n",
       "0    150\n",
       "Name: count, dtype: int64"
      ]
     },
     "execution_count": 66,
     "metadata": {},
     "output_type": "execute_result"
    }
   ],
   "source": [
    "data['class'].value_counts()"
   ]
  },
  {
   "cell_type": "markdown",
   "metadata": {},
   "source": [
    "__Answer:__\n",
    "\n",
    "The unbalanced classes can be a problem. The models tend to be biased toword the majority class.\n",
    "It may lead to poor predictions and result the inaccuracy scores which is critical and crucial to medical diagnoses like CKD. \n",
    "\n",
    "__But in this case...__\n",
    "I don't think this can be a problem in this particular CKD analysis because the minority class or those not having CKD hold roughly 37% of the dataset. It doen't show very less proportion to be concerned about the unbalanced class issues."
   ]
  },
  {
   "cell_type": "markdown",
   "metadata": {},
   "source": [
    "### 20. Suppose you're speaking with a doctor at Mayo Clinic who, despite being very smart, doesn't know much about data science or statistics. How would you explain why unbalanced classes are generally a problem to this doctor?"
   ]
  },
  {
   "cell_type": "markdown",
   "metadata": {},
   "source": [
    "__Answer:__\n",
    "\n",
    "Actually, I would said peolple can have or not have CKD, depended on there behavior and health condition. The unbalance may shows that people tend to have CKD thesedays. However, I think it may predict the bias as when we want to know the probability, at least have the same sample size."
   ]
  },
  {
   "cell_type": "markdown",
   "metadata": {},
   "source": [
    "### 21. Let's create very unbalanced classes just for the sake of this example! Generate very unbalanced classes by [bootstrapping](http://stattrek.com/statistics/dictionary.aspx?definition=sampling_with_replacement) (a.k.a. random sampling with replacement) the majority class.\n",
    "\n",
    "1. The majority class are those individuals with CKD.\n",
    "2. Generate a random sample of size 200,000 of individuals who have CKD **with replacement**. (Consider setting a random seed for this part!)\n",
    "3. Create a new dataframe with the original data plus this random sample of data.\n",
    "4. Now we should have a dataset with around 200,000 observations, of which only about 0.00075% are non-CKD individuals."
   ]
  },
  {
   "cell_type": "code",
   "execution_count": 71,
   "metadata": {},
   "outputs": [
    {
     "name": "stdout",
     "output_type": "stream",
     "text": [
      "Class distribution in the new dataset (%):\n",
      "class\n",
      "1    99.92515\n",
      "0     0.07485\n",
      "Name: proportion, dtype: float64\n"
     ]
    }
   ],
   "source": [
    "# Set the random seed for reproducibility\n",
    "np.random.seed(42)\n",
    "\n",
    "#'class': 1 = CKD and 0 = non-CKD\n",
    "# Identify no. of cases\n",
    "ckd_cases = data[data['class'] == 1]\n",
    "\n",
    "# Generate a random sample of size 200,000 from CKD cases (with replacement)\n",
    "# Sample with replacement because...\n",
    "# I want each CKD case be picked multiple times as in the dataset doesn’t have 200,000 unique CKD cases.\n",
    "ckd_sample = ckd_cases.sample(n=200_000, replace=True)\n",
    "\n",
    "# Combine the original dataset with the new CKD sample\n",
    "df_unbalanced = pd.concat([data, ckd_sample], ignore_index=True)\n",
    "\n",
    "# Check the distribution of the classes\n",
    "class_counts = df_unbalanced['class'].value_counts(normalize=True) * 100\n",
    "print(\"Class distribution in the new dataset (%):\")\n",
    "print(class_counts)"
   ]
  },
  {
   "cell_type": "code",
   "execution_count": 72,
   "metadata": {},
   "outputs": [
    {
     "data": {
      "text/plain": [
       "(200400, 20)"
      ]
     },
     "execution_count": 72,
     "metadata": {},
     "output_type": "execute_result"
    }
   ],
   "source": [
    "df_unbalanced.shape"
   ]
  },
  {
   "cell_type": "markdown",
   "metadata": {},
   "source": [
    "### 22. Build a logistic regression model on the unbalanced class data and evaluate its performance using whatever method(s) you see fit. How would you describe the impact of unbalanced classes on logistic regression as a classifier?\n",
    "> Be sure to look at how well it performs on non-CKD data."
   ]
  },
  {
   "cell_type": "code",
   "execution_count": 138,
   "metadata": {},
   "outputs": [
    {
     "name": "stdout",
     "output_type": "stream",
     "text": [
      "Training score: 0.9999001996007985\n",
      "Testing score: 0.9998003992015968\n"
     ]
    }
   ],
   "source": [
    "# Set up X,y\n",
    "X = df_unbalanced.drop(columns='class')  # Features\n",
    "y = df_unbalanced['class']  # Target variable\n",
    "\n",
    "\n",
    "# Train/test splitting the data (Before scale to avoid data leak)\n",
    "X_train, X_test, y_train, y_test = train_test_split(X, y, test_size=0.2, random_state=42)\n",
    "\n",
    "# Instantiating and fitting standard scaler \n",
    "ss = StandardScaler()\n",
    "ss.fit(X_train);\n",
    "\n",
    "#Transform\n",
    "X_train_sc = ss.transform(X_train)\n",
    "X_test_sc = ss.transform(X_test)\n",
    "\n",
    "# Instantiating and fitting logistic regression\n",
    "lr = LogisticRegression()\n",
    "lr.fit(X_train_sc, y_train);\n",
    "\n",
    "y_preds = lr.predict(X_test_sc)\n",
    "\n",
    "print (f'Training score: {lr.score(X_train_sc, y_train)}')\n",
    "print (f'Testing score: {lr.score(X_test_sc, y_test)}')"
   ]
  },
  {
   "cell_type": "markdown",
   "metadata": {},
   "source": [
    "---\n",
    "\n",
    "## Step 6: Answer the problem.\n",
    "\n",
    "At this step, you would generally answer the problem! In this situation, you would likely present your model to doctors or administrators at the hospital and show how your model results in reduced false positives/false negatives. Next steps would be to find a way to roll this model and its conclusions out across the hospital so that the outcomes of patients with CKD (and without CKD!) can be improved!"
   ]
  },
  {
   "cell_type": "code",
   "execution_count": 140,
   "metadata": {},
   "outputs": [],
   "source": [
    "# Ans\n",
    "# Present the model's with 100% accuracy. Showing off the 0 FP and FN.\n",
    "# The model will show that it has better outcomes and can use to predict and focus on patient health.\n",
    "\n",
    "# Implementation\n",
    "# Deploy > deploy model within the hospitals database to do the diagnostic. \n",
    "# Internal training > Train the staff to help them understand the meaning of model output. This help making decision!\n",
    "# Monitor > After training and deploy, monitoring and maintain the accuracy of the models. \n",
    "    # It may have other factors building up causing CKD"
   ]
  },
  {
   "cell_type": "code",
   "execution_count": null,
   "metadata": {},
   "outputs": [],
   "source": []
  }
 ],
 "metadata": {
  "kernelspec": {
   "display_name": "Python 3 (ipykernel)",
   "language": "python",
   "name": "python3"
  },
  "language_info": {
   "codemirror_mode": {
    "name": "ipython",
    "version": 3
   },
   "file_extension": ".py",
   "mimetype": "text/x-python",
   "name": "python",
   "nbconvert_exporter": "python",
   "pygments_lexer": "ipython3",
   "version": "3.12.4"
  }
 },
 "nbformat": 4,
 "nbformat_minor": 4
}
